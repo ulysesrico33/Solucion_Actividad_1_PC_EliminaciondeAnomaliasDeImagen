{
 "cells": [
  {
   "cell_type": "code",
   "execution_count": 1,
   "id": "a3195039",
   "metadata": {},
   "outputs": [],
   "source": [
    "#Alumno: ULYSES RICO REA\n",
    "#-------------Sección 1 Descripción del problema y/o anomalía--------------"
   ]
  },
  {
   "cell_type": "code",
   "execution_count": 2,
   "id": "39bf7efd",
   "metadata": {},
   "outputs": [],
   "source": [
    "#------------Sección 2 Imágenes con anomalía a eliminar--------------------"
   ]
  },
  {
   "cell_type": "code",
   "execution_count": 1,
   "id": "cf7e1c0f",
   "metadata": {},
   "outputs": [],
   "source": [
    "#------------Sección 3 Solución propuesta---------------------------------"
   ]
  },
  {
   "cell_type": "code",
   "execution_count": null,
   "id": "662023a9",
   "metadata": {},
   "outputs": [],
   "source": [
    "#-----------Sección 4 Ejecución comentada paso a paso del algoritmo-------"
   ]
  }
 ],
 "metadata": {
  "kernelspec": {
   "display_name": "Python 3",
   "language": "python",
   "name": "python3"
  },
  "language_info": {
   "codemirror_mode": {
    "name": "ipython",
    "version": 3
   },
   "file_extension": ".py",
   "mimetype": "text/x-python",
   "name": "python",
   "nbconvert_exporter": "python",
   "pygments_lexer": "ipython3",
   "version": "3.9.1"
  }
 },
 "nbformat": 4,
 "nbformat_minor": 5
}
