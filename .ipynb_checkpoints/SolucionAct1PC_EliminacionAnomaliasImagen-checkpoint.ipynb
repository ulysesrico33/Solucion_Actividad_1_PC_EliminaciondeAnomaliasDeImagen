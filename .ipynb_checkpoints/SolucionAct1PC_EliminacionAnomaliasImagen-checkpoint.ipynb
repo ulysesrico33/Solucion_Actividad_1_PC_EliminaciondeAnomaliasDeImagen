{
 "cells": [
  {
   "cell_type": "code",
   "execution_count": 2,
   "id": "a3195039",
   "metadata": {},
   "outputs": [
    {
     "name": "stdout",
     "output_type": "stream",
     "text": [
      "Lol\n"
     ]
    }
   ],
   "source": [
    "print('Lol')"
   ]
  },
  {
   "cell_type": "code",
   "execution_count": 2,
   "id": "39bf7efd",
   "metadata": {},
   "outputs": [
    {
     "name": "stdout",
     "output_type": "stream",
     "text": [
      "Cool\n"
     ]
    }
   ],
   "source": [
    "print('Cool')"
   ]
  },
  {
   "cell_type": "code",
   "execution_count": 1,
   "id": "cf7e1c0f",
   "metadata": {},
   "outputs": [],
   "source": [
    "#This is a comment"
   ]
  },
  {
   "cell_type": "code",
   "execution_count": null,
   "id": "662023a9",
   "metadata": {},
   "outputs": [],
   "source": []
  }
 ],
 "metadata": {
  "kernelspec": {
   "display_name": "Python 3",
   "language": "python",
   "name": "python3"
  },
  "language_info": {
   "codemirror_mode": {
    "name": "ipython",
    "version": 3
   },
   "file_extension": ".py",
   "mimetype": "text/x-python",
   "name": "python",
   "nbconvert_exporter": "python",
   "pygments_lexer": "ipython3",
   "version": "3.9.1"
  }
 },
 "nbformat": 4,
 "nbformat_minor": 5
}
